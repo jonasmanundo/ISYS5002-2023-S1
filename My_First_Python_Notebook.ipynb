{
  "nbformat": 4,
  "nbformat_minor": 0,
  "metadata": {
    "colab": {
      "provenance": [],
      "authorship_tag": "ABX9TyOT83ZemprzZueKezrLTwyf",
      "include_colab_link": true
    },
    "kernelspec": {
      "name": "python3",
      "display_name": "Python 3"
    },
    "language_info": {
      "name": "python"
    }
  },
  "cells": [
    {
      "cell_type": "markdown",
      "metadata": {
        "id": "view-in-github",
        "colab_type": "text"
      },
      "source": [
        "<a href=\"https://colab.research.google.com/github/jonasmanundo/ISYS5002-2023-S1/blob/main/My_First_Python_Notebook.ipynb\" target=\"_parent\"><img src=\"https://colab.research.google.com/assets/colab-badge.svg\" alt=\"Open In Colab\"/></a>"
      ]
    },
    {
      "cell_type": "markdown",
      "source": [
        "# This is my first python notebook.\n",
        "\n",
        "I'm going to use the 'print' function"
      ],
      "metadata": {
        "id": "ZGorXHEcs96P"
      }
    },
    {
      "cell_type": "code",
      "execution_count": 1,
      "metadata": {
        "colab": {
          "base_uri": "https://localhost:8080/"
        },
        "id": "_Jj7Atbqp-4Q",
        "outputId": "b9c4911e-b340-4fa7-ceee-72fe6c7135e3"
      },
      "outputs": [
        {
          "output_type": "execute_result",
          "data": {
            "text/plain": [
              "2"
            ]
          },
          "metadata": {},
          "execution_count": 1
        }
      ],
      "source": [
        "1 + 1 # expression"
      ]
    },
    {
      "cell_type": "code",
      "source": [
        "print (\"Hello World\")"
      ],
      "metadata": {
        "colab": {
          "base_uri": "https://localhost:8080/"
        },
        "id": "txlDukvEvuAJ",
        "outputId": "5432b020-ba15-4f65-e177-7ed011c8b705"
      },
      "execution_count": 3,
      "outputs": [
        {
          "output_type": "stream",
          "name": "stdout",
          "text": [
            "Hello World\n"
          ]
        }
      ]
    },
    {
      "cell_type": "code",
      "source": [
        "print (\"Hello Boss\")\n",
        "print (\"Welcome to Python Programming!\")"
      ],
      "metadata": {
        "colab": {
          "base_uri": "https://localhost:8080/"
        },
        "id": "5NsmYlh8wAPj",
        "outputId": "9482ded6-3fff-4d7f-a72d-eb362e51af37"
      },
      "execution_count": 4,
      "outputs": [
        {
          "output_type": "stream",
          "name": "stdout",
          "text": [
            "Hello Boss\n",
            "Welcome to Python Programming!\n"
          ]
        }
      ]
    },
    {
      "cell_type": "code",
      "source": [
        "print (\"hello friend\")\n",
        "print (\"welcom to PP\")"
      ],
      "metadata": {
        "colab": {
          "base_uri": "https://localhost:8080/"
        },
        "id": "V2_S-_sPwY40",
        "outputId": "5438e5d3-d7a0-4bf9-eb60-575ac7d17af3"
      },
      "execution_count": 5,
      "outputs": [
        {
          "output_type": "stream",
          "name": "stdout",
          "text": [
            "hello friend\n",
            "welcom to PP\n"
          ]
        }
      ]
    },
    {
      "cell_type": "code",
      "source": [
        "# get input from user use 'input' fxn\n",
        "# save it with variable 'name'\n",
        "name = input(\"please type your name \")"
      ],
      "metadata": {
        "colab": {
          "base_uri": "https://localhost:8080/"
        },
        "id": "AszhAbrYwtjb",
        "outputId": "8b43fe5a-6940-4ac1-a748-304744bec7a3"
      },
      "execution_count": 32,
      "outputs": [
        {
          "name": "stdout",
          "output_type": "stream",
          "text": [
            "please type your name Mr Will\n"
          ]
        }
      ]
    },
    {
      "cell_type": "code",
      "source": [
        "name # validate what is stored in 'name'"
      ],
      "metadata": {
        "colab": {
          "base_uri": "https://localhost:8080/",
          "height": 35
        },
        "id": "mBdw38-oyEax",
        "outputId": "775d852a-2918-4bf8-ad3f-a5b7563e37ab"
      },
      "execution_count": 33,
      "outputs": [
        {
          "output_type": "execute_result",
          "data": {
            "text/plain": [
              "'Mr Will'"
            ],
            "application/vnd.google.colaboratory.intrinsic+json": {
              "type": "string"
            }
          },
          "metadata": {},
          "execution_count": 33
        }
      ]
    },
    {
      "cell_type": "code",
      "source": [
        "print (\"hello\", name)\n",
        "print (\"hello\"+ name)"
      ],
      "metadata": {
        "colab": {
          "base_uri": "https://localhost:8080/"
        },
        "id": "umiX89fdyTvY",
        "outputId": "7d3bdbc6-6978-4507-cc08-bb869d7e67a0"
      },
      "execution_count": 34,
      "outputs": [
        {
          "output_type": "stream",
          "name": "stdout",
          "text": [
            "hello Mr Will\n",
            "helloMr Will\n"
          ]
        }
      ]
    },
    {
      "cell_type": "code",
      "source": [
        "# sample\n",
        "age = input (\"how old are you \")"
      ],
      "metadata": {
        "colab": {
          "base_uri": "https://localhost:8080/"
        },
        "id": "kL3_8r6Vy1Ki",
        "outputId": "e5f2db63-81cb-46cf-b24a-bc19d10c7226"
      },
      "execution_count": 21,
      "outputs": [
        {
          "name": "stdout",
          "output_type": "stream",
          "text": [
            "how old are you 69\n"
          ]
        }
      ]
    },
    {
      "cell_type": "code",
      "source": [
        "age"
      ],
      "metadata": {
        "colab": {
          "base_uri": "https://localhost:8080/",
          "height": 35
        },
        "id": "C_hpPlQPzTjT",
        "outputId": "8027eb21-9172-409d-c5f5-23fe445e1798"
      },
      "execution_count": 22,
      "outputs": [
        {
          "output_type": "execute_result",
          "data": {
            "text/plain": [
              "'69'"
            ],
            "application/vnd.google.colaboratory.intrinsic+json": {
              "type": "string"
            }
          },
          "metadata": {},
          "execution_count": 22
        }
      ]
    },
    {
      "cell_type": "code",
      "source": [
        "print (\"hello\", name)\n",
        "print (\"happy\", age + \"th\", \"birthday\")"
      ],
      "metadata": {
        "colab": {
          "base_uri": "https://localhost:8080/"
        },
        "id": "o7bYAsQZzWFD",
        "outputId": "b895dd22-3476-49e0-a8fb-08a7c77fe070"
      },
      "execution_count": 24,
      "outputs": [
        {
          "output_type": "stream",
          "name": "stdout",
          "text": [
            "hello Will\n",
            "happy 69th birthday\n"
          ]
        }
      ]
    },
    {
      "cell_type": "code",
      "source": [
        "name2 = input (\"surname \")"
      ],
      "metadata": {
        "colab": {
          "base_uri": "https://localhost:8080/"
        },
        "id": "f_BDFOiG0p02",
        "outputId": "3fef2179-05c9-4b9f-b3e3-114bdbc7e5a0"
      },
      "execution_count": 29,
      "outputs": [
        {
          "name": "stdout",
          "output_type": "stream",
          "text": [
            "surname Smith\n"
          ]
        }
      ]
    },
    {
      "cell_type": "code",
      "source": [
        "name2"
      ],
      "metadata": {
        "colab": {
          "base_uri": "https://localhost:8080/",
          "height": 35
        },
        "id": "CXUllZc903Fu",
        "outputId": "fcd66ef0-8987-4227-8f97-544d07bd3880"
      },
      "execution_count": 30,
      "outputs": [
        {
          "output_type": "execute_result",
          "data": {
            "text/plain": [
              "'Smith'"
            ],
            "application/vnd.google.colaboratory.intrinsic+json": {
              "type": "string"
            }
          },
          "metadata": {},
          "execution_count": 30
        }
      ]
    },
    {
      "cell_type": "code",
      "source": [
        "print (\"hello\", name, name2)"
      ],
      "metadata": {
        "colab": {
          "base_uri": "https://localhost:8080/"
        },
        "id": "7oYpq9aF06Be",
        "outputId": "70b8ffea-e0f6-4b5c-bb57-abf4dac2fcd4"
      },
      "execution_count": 37,
      "outputs": [
        {
          "output_type": "stream",
          "name": "stdout",
          "text": [
            "hello Mr Will Smith\n"
          ]
        }
      ]
    }
  ]
}