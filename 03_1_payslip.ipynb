{
  "cells": [
    {
      "cell_type": "markdown",
      "metadata": {
        "id": "view-in-github",
        "colab_type": "text"
      },
      "source": [
        "<a href=\"https://colab.research.google.com/github/jonasmanundo/ISYS5002-2023-S1/blob/main/03_1_payslip.ipynb\" target=\"_parent\"><img src=\"https://colab.research.google.com/assets/colab-badge.svg\" alt=\"Open In Colab\"/></a>"
      ]
    },
    {
      "cell_type": "markdown",
      "metadata": {
        "id": "kF8ldRydTDPx"
      },
      "source": [
        "# Payslip\n",
        "\n",
        "A payslip is a document that shows their total wages earned for a set period. \n",
        "This might be from a salary, hourly wages or commission. Payslips are also know as ‘pay advice’.  Traditionally the payslip was a paper document attached. Today\n",
        "most organisations provide them electronically.\n",
        "\n",
        "## Task 0 - Import into GitHub\n",
        "First, import the notebook into Colab and save an initial copy to GitHub.\n",
        "\n",
        "## Task 1 - Start Simple\n",
        "\n",
        "Writing complete robust programs can take time.  Often the more we understand a problem the easier it is to implement the solution.   One approach is to implement the simplest version of a program and then slowly add functionality.\n",
        "\n",
        "This notebook aims to start simple and slowly build up the program.\n",
        "The approach we take below is one way to understand a problem, step 1 of our development process. Complex projects, often follow a similar idea\n",
        "where they implement a minimal program, and each week or month has intense periods where the team adds functionality.  These advanced methodologies are beyond the scope of an introductory programming course but by starting small and slowly adding functionality we do capture the essence of the process.\n",
        "\n",
        "\n",
        "### The Initial (minimal) Program\n",
        "\n",
        "Consider 'Ram' who has a salary of \\$25,000.  They have sold goods worth $20,000 and earn a 2% commission on the sales. They fall into the 10% tax bracket. We will talk about tax brackets in another notebook. Before making payments the organisation needs to deduct 10% tax.\n",
        "\n",
        "We need to program to print out a payslip for salespeople. Our payslip\n",
        "is very simple, we need a title, the amount of salary, the amount of commission, the amount of tax, and the total pay.\n",
        "\n",
        "Run the following program for one person."
      ]
    },
    {
      "cell_type": "markdown",
      "source": [
        "Algorithm/pseudocode\n",
        "\n",
        "get salary amount\n",
        "get sales amount\n",
        "get commission rate\n",
        "get tax rate\n",
        "\n",
        "calculate **commission**: sales * commission\n",
        "\n",
        "calculate **gross pay**: salary * commission\n",
        "\n",
        "calculate **tax** : gross pay * tax\n",
        "\n",
        "calculate **net pay**: gross pay - tax\n",
        "\n",
        "print payslip. The payslip details include: Name\n",
        "\n",
        "\n",
        "*   Salary\n",
        "*   commission\n",
        "*   tax\n",
        "*   net pay\n",
        "\n"
      ],
      "metadata": {
        "id": "0Pz0r0LeK74N"
      }
    },
    {
      "cell_type": "code",
      "execution_count": 1,
      "metadata": {
        "id": "2UenEHfcTuLz",
        "colab": {
          "base_uri": "https://localhost:8080/"
        },
        "outputId": "d92d8a71-8b53-428d-9350-638fe0191e51"
      },
      "outputs": [
        {
          "output_type": "stream",
          "name": "stdout",
          "text": [
            "=== Payslip of Ram ===\n",
            "Salary:     25000 \n",
            "Commission: 400.0 \n",
            "Tax:        2540.0\n",
            "Total pay:  22860.0\n"
          ]
        }
      ],
      "source": [
        "\n",
        "\n",
        "# assign values for salar and sales\n",
        "salary = 25000\n",
        "sales = 20000\n",
        "\n",
        "# calculate the commision\n",
        "commission = 0.02 * sales\n",
        "\n",
        "# calculate the tax\n",
        "tax = (salary + commission) * 0.10\n",
        "\n",
        "# calculate the pay\n",
        "pay = salary + commission - tax\n",
        "\n",
        "# print the payslip\n",
        "print('=== Payslip of Ram ===')\n",
        "print(f\"Salary: {salary:9} \\nCommission: {commission:} \\nTax: {tax:13}\")\n",
        "print(f\"Total pay: {pay:8}\")\n"
      ]
    },
    {
      "cell_type": "markdown",
      "metadata": {
        "id": "QzcJGzRBUDz2"
      },
      "source": [
        "Now, consider 'Radha' who has a salary of \\$30,000.  They have sold goods worth $40,000 and earns 2.5% commision on the sales. They fall into the 10% tax bracket and so before making payments we need to deduct 10% form their total payout."
      ]
    },
    {
      "cell_type": "code",
      "execution_count": 3,
      "metadata": {
        "id": "wFmuD9ujUgDW",
        "colab": {
          "base_uri": "https://localhost:8080/"
        },
        "outputId": "72717b93-779c-4d85-8ab8-c4524f57256c"
      },
      "outputs": [
        {
          "output_type": "stream",
          "name": "stdout",
          "text": [
            "=== Payslip of Radha ===\n",
            "Salary is: $    30000 \n",
            "Commission is: $1000.0 \n",
            "Tax is: $       3100.0\n",
            "Total pay is: $ 27900.0\n"
          ]
        }
      ],
      "source": [
        "# assign values for salary and sales\n",
        "salary = 30000\n",
        "sales = 40000\n",
        "\n",
        "# calculate the commision\n",
        "commission = 0.025 * sales\n",
        "\n",
        "# calculate the tax\n",
        "tax = (salary + commission) * 0.10\n",
        "\n",
        "# calculate the pay\n",
        "pay = salary + commission - tax\n",
        "\n",
        "# print the payslip\n",
        "print('=== Payslip of Radha ===')\n",
        "print(f\"Salary is: ${salary:9} \\nCommission is: ${commission:} \\nTax is: ${tax:13}\")\n",
        "print(f\"Total pay is: ${pay:8}\")"
      ]
    },
    {
      "cell_type": "markdown",
      "metadata": {
        "id": "UFGObxq7UlvE"
      },
      "source": [
        "## Task 2 - Generalise\n",
        "\n",
        "What details did we change from Ram to Radha?"
      ]
    },
    {
      "cell_type": "code",
      "execution_count": null,
      "metadata": {
        "id": "zMEi9q1dUr36"
      },
      "outputs": [],
      "source": [
        "1 # salary\n",
        "2 # sales\n",
        "3 # commission rate\n",
        "4 # name in payslip\n"
      ]
    },
    {
      "cell_type": "markdown",
      "metadata": {
        "id": "7PrlmDmYV6iX"
      },
      "source": [
        "Make what we changed as inputs (parameters) to a function"
      ]
    },
    {
      "cell_type": "code",
      "execution_count": 25,
      "metadata": {
        "id": "cJwgf8nZWDF6"
      },
      "outputs": [],
      "source": [
        "# define the function get_income () to get details of the sales person\n",
        "# sales pereson details: name, salary, sales and commission rate\n",
        "\n",
        "def get_income():\n",
        "  name = input(\"Please enter name: \")\n",
        "  salary = int(input(\"Please enter salary: \"))\n",
        "  sales = int(input(\"Please enter sales: \"))\n",
        "  comm_rate = float(input(\"Please enter commission: \"))\n",
        "\n",
        "  print(f\"{name} {salary} {sales} {comm_rate}\")\n"
      ]
    },
    {
      "cell_type": "code",
      "source": [
        "get_income() # call function get_income"
      ],
      "metadata": {
        "colab": {
          "base_uri": "https://localhost:8080/"
        },
        "id": "CuVi3eaJPk92",
        "outputId": "6346cced-068f-45c1-ffed-ca8f78a72b7c"
      },
      "execution_count": 50,
      "outputs": [
        {
          "output_type": "stream",
          "name": "stdout",
          "text": [
            "Please enter name: Jonas\n",
            "Please enter salary: 30000\n",
            "Please enter sales: 20000\n",
            "Please enter commission: 2.5\n",
            "Jonas 30000 20000 2.5\n"
          ]
        }
      ]
    },
    {
      "cell_type": "code",
      "source": [
        "def calculate_pay(salaryR, salesR, commssion):\n",
        "  # calculate commission\n",
        "  comm = (commission/100) * salesR\n",
        "  #calculate tax\n",
        "  tax = (salaryR + comm)\n",
        "  #calculate pay\n",
        "  pay = salaryR + comm - tax\n",
        "\n",
        " # print(f\"{salaryR} {salesR} {commission}\")\n",
        " # print(f\"{comm} {tax} {pay}\")\n",
        "  return comm, tax, pay"
      ],
      "metadata": {
        "id": "UVB62RaaSAYh"
      },
      "execution_count": 51,
      "outputs": []
    },
    {
      "cell_type": "code",
      "source": [
        "calculate_pay(20000, 25000, 2)"
      ],
      "metadata": {
        "id": "tv6N_ksgTxOr",
        "outputId": "8241ff19-d2bb-42b4-fbb6-2935dd595779",
        "colab": {
          "base_uri": "https://localhost:8080/"
        }
      },
      "execution_count": 52,
      "outputs": [
        {
          "output_type": "execute_result",
          "data": {
            "text/plain": [
              "(250000.0, 270000.0, 0.0)"
            ]
          },
          "metadata": {},
          "execution_count": 52
        }
      ]
    },
    {
      "cell_type": "code",
      "source": [
        "commR, taxR, payR = calculate_pay(25000, 30000, 2.5)"
      ],
      "metadata": {
        "id": "7YFnLio1YAtb"
      },
      "execution_count": 53,
      "outputs": []
    },
    {
      "cell_type": "code",
      "source": [
        "# get user input\n",
        "nameR, salaryR, salesR, commission = get_income()\n",
        "\n",
        "# calculate pay\n",
        "commR, taxR, payR = calculate_pay(25000, 30000, 2.5)\n",
        "\n",
        "# print the payslip\n",
        "print(f\"\\n=== Payslip of {nameR} ===\")\n",
        "print(f\"Salary is: ${salaryR:9} \\nCommission is: ${commR:} \\nTax is: ${taxR:13}\")\n",
        "print(f\"Total pay is: ${payR:8}\")"
      ],
      "metadata": {
        "id": "J0CCnKUwUUgP",
        "outputId": "50dff387-81fa-49c5-f70d-3a8e39e277b7",
        "colab": {
          "base_uri": "https://localhost:8080/",
          "height": 321
        }
      },
      "execution_count": 54,
      "outputs": [
        {
          "output_type": "stream",
          "name": "stdout",
          "text": [
            "Please enter name: Jonas\n",
            "Please enter salary: 25000\n",
            "Please enter sales: 30000\n",
            "Please enter commission: 2.5\n",
            "Jonas 25000 30000 2.5\n"
          ]
        },
        {
          "output_type": "error",
          "ename": "TypeError",
          "evalue": "ignored",
          "traceback": [
            "\u001b[0;31m---------------------------------------------------------------------------\u001b[0m",
            "\u001b[0;31mTypeError\u001b[0m                                 Traceback (most recent call last)",
            "\u001b[0;32m<ipython-input-54-8a0312a2c805>\u001b[0m in \u001b[0;36m<module>\u001b[0;34m\u001b[0m\n\u001b[1;32m      1\u001b[0m \u001b[0;31m# get user input\u001b[0m\u001b[0;34m\u001b[0m\u001b[0;34m\u001b[0m\u001b[0m\n\u001b[0;32m----> 2\u001b[0;31m \u001b[0mnameR\u001b[0m\u001b[0;34m,\u001b[0m \u001b[0msalaryR\u001b[0m\u001b[0;34m,\u001b[0m \u001b[0msalesR\u001b[0m\u001b[0;34m,\u001b[0m \u001b[0mcommission\u001b[0m \u001b[0;34m=\u001b[0m \u001b[0mget_income\u001b[0m\u001b[0;34m(\u001b[0m\u001b[0;34m)\u001b[0m\u001b[0;34m\u001b[0m\u001b[0;34m\u001b[0m\u001b[0m\n\u001b[0m\u001b[1;32m      3\u001b[0m \u001b[0;34m\u001b[0m\u001b[0m\n\u001b[1;32m      4\u001b[0m \u001b[0;31m# calculate pay\u001b[0m\u001b[0;34m\u001b[0m\u001b[0;34m\u001b[0m\u001b[0m\n\u001b[1;32m      5\u001b[0m \u001b[0mcommR\u001b[0m\u001b[0;34m,\u001b[0m \u001b[0mtaxR\u001b[0m\u001b[0;34m,\u001b[0m \u001b[0mpayR\u001b[0m \u001b[0;34m=\u001b[0m \u001b[0mcalculate_pay\u001b[0m\u001b[0;34m(\u001b[0m\u001b[0;36m25000\u001b[0m\u001b[0;34m,\u001b[0m \u001b[0;36m30000\u001b[0m\u001b[0;34m,\u001b[0m \u001b[0;36m2.5\u001b[0m\u001b[0;34m)\u001b[0m\u001b[0;34m\u001b[0m\u001b[0;34m\u001b[0m\u001b[0m\n",
            "\u001b[0;31mTypeError\u001b[0m: cannot unpack non-iterable NoneType object"
          ]
        }
      ]
    }
  ],
  "metadata": {
    "colab": {
      "provenance": [],
      "include_colab_link": true
    },
    "kernelspec": {
      "display_name": "Python 3",
      "language": "python",
      "name": "python3"
    },
    "language_info": {
      "codemirror_mode": {
        "name": "ipython",
        "version": 3
      },
      "file_extension": ".py",
      "mimetype": "text/x-python",
      "name": "python",
      "nbconvert_exporter": "python",
      "pygments_lexer": "ipython3",
      "version": "3.8.8"
    }
  },
  "nbformat": 4,
  "nbformat_minor": 0
}