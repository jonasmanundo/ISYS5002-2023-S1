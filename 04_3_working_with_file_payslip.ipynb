{
  "cells": [
    {
      "cell_type": "markdown",
      "metadata": {
        "id": "view-in-github",
        "colab_type": "text"
      },
      "source": [
        "<a href=\"https://colab.research.google.com/github/jonasmanundo/ISYS5002-2023-S1/blob/main/04_3_working_with_file_payslip.ipynb\" target=\"_parent\"><img src=\"https://colab.research.google.com/assets/colab-badge.svg\" alt=\"Open In Colab\"/></a>"
      ]
    },
    {
      "cell_type": "markdown",
      "metadata": {
        "id": "kF8ldRydTDPx"
      },
      "source": [
        "# Payslip\n",
        "\n",
        "A payslip is a document that shows their total wages earned for a set period. \n",
        "This might be from a salary, hourly wages or commission. Payslips are also know as ‘pay advice’.  Traditionally the payslip was a paper document attached. Today\n",
        "most organisations provide them electronically.\n",
        "\n",
        "## Task 0 - Import into GitHub\n",
        "First, import the notebook into Colab and save an initial copy to GitHub.\n",
        "\n",
        "## Task 1 - Start Simple\n",
        "\n",
        "Writing complete robust programs can take time.  Often the more we understand a problem the easier it is to implement the solution.   One approach is to implement the simplest version of a program and then slowly add functionality.\n",
        "\n",
        "This notebook aims to start simple and slowly build up the program.\n",
        "The approach we take below is one way to understand a problem, step 1 of our development process. Complex projects, often follow a similar idea\n",
        "where they implement a minimal program, and each week or month has intense periods where the team adds functionality.  These advanced methodologies are beyond the scope of an introductory programming course but by starting small and slowly adding functionality we do capture the essence of the process.\n",
        "\n"
      ]
    },
    {
      "cell_type": "markdown",
      "source": [
        "## The following is the payslip program we created last week"
      ],
      "metadata": {
        "id": "sqMOWCoYIl9u"
      }
    },
    {
      "cell_type": "code",
      "execution_count": null,
      "metadata": {
        "id": "cJwgf8nZWDF6"
      },
      "outputs": [],
      "source": [
        "# FUNCTION: calculate_pay\n",
        "# create function to calculate pay\n",
        "\n",
        "def calculate_pay(salary, sales, comm):\n",
        "  # calculate the commision\n",
        "  commission = (comm/100) * sales\n",
        "\n",
        "  # calculate the tax\n",
        "  tax = (salary + commission) * 0.10\n",
        "\n",
        "  # calculate the pay\n",
        "  pay = salary + commission - tax\n",
        "\n",
        "  #print(commission, tax, pay)\n",
        "  return commission, tax, pay\n",
        " "
      ]
    },
    {
      "cell_type": "code",
      "source": [
        "# PUTTING IT ALL TOGETHER\n",
        "\n",
        "# get user input - name\n",
        "name = input(\"Please enter name: \")\n",
        "\n",
        "# get user input for salary\n",
        "salary = int(input(\"Please enter salary: \"))\n",
        "\n",
        "# get user input for sales\n",
        "sales = int(input(\"Please enter sales: \"))\n",
        "\n",
        "# get user input for commission\n",
        "comm_rate = float(input(\"Please enter commission rate: \"))\n",
        "\n",
        "# pass the salary, sales & commission values to function calculate_pay\n",
        "# receive/capture the return values from the function\n",
        "comm_result, tax_result, pay_result = calculate_pay(salary, sales, comm_rate)\n",
        "\n",
        "# print out the payslip nicely formatted\n",
        "print(f'\\n2=== Payslip of {name} ===')\n",
        "print(f\"Salary: {salary:9} \\nCommission: {comm_result:2} \\nTax: {tax_result:13} \\nTotal pay: {pay_result:8}\")\n"
      ],
      "metadata": {
        "id": "uqjNAtdf8zM-"
      },
      "execution_count": null,
      "outputs": []
    },
    {
      "cell_type": "markdown",
      "source": [
        "## Modify the *payslip* program to \n",
        "* get user input and save the user input into a csv file\n",
        "  * include error handling for any exceptions that may arise during user input\n",
        "  * where possible, use functions to group your code"
      ],
      "metadata": {
        "id": "UCG4KxkJ-wBF"
      }
    },
    {
      "cell_type": "markdown",
      "source": [
        "what to do\n",
        "1. get input\n",
        "2. input user data in csv\n",
        "3. input validation\n",
        "\n",
        "steps\n",
        "1. get input\n",
        "2. validate error (use try/except"
      ],
      "metadata": {
        "id": "zJC2gnmRIvuU"
      }
    },
    {
      "cell_type": "code",
      "source": [
        "while True:\n",
        "  try:\n",
        "    name = input(\"Please enter name: \")\n",
        "    salary = int(input(\"Please enter salary: \"))\n",
        "    sales = int(input(\"Please enter sales: \"))\n",
        "    comm_rate = float(input(\"Please enter commission rate: \"))\n",
        "  except ValueError:\n",
        "    print(\"Please enter a whole number\")\n",
        "  except:\n",
        "    print(\"invalid input, input error. Pleace check your input and try again\")"
      ],
      "metadata": {
        "colab": {
          "base_uri": "https://localhost:8080/"
        },
        "id": "JxsKYnqdKEZW",
        "outputId": "92a29553-6e57-438c-f80a-3b0cd6340d0b"
      },
      "execution_count": null,
      "outputs": [
        {
          "output_type": "stream",
          "name": "stdout",
          "text": [
            "Please enter name: jonas\n",
            "Please enter salary: 25\n",
            "Please enter sales: 10\n",
            "Please enter commission rate: 2\n",
            "Please enter name: 32\n",
            "Please enter salary: 210\n",
            "invalid input, input error. Pleace check your input and try again\n"
          ]
        }
      ]
    },
    {
      "cell_type": "code",
      "source": [
        "def calculate_pay(salary, sales, comm):\n",
        "  # calculate the commision\n",
        "  commission = (comm/100) * sales\n",
        "\n",
        "  # calculate the tax\n",
        "  tax = (salary + commission) * 0.10\n",
        "\n",
        "  # calculate the pay\n",
        "  pay = salary + commission - tax\n",
        "\n",
        "  #print(commission, tax, pay)\n",
        "  return commission, tax, pay\n",
        "name = input(\"Please enter name: \")\n",
        "\n",
        "# get user input for salary\n",
        "salary = int(input(\"Please enter salary: \"))\n",
        "\n",
        "# get user input for sales\n",
        "sales = int(input(\"Please enter sales: \"))\n",
        "\n",
        "# get user input for commission\n",
        "comm_rate = float(input(\"Please enter commission rate: \"))\n",
        "\n",
        "# pass the salary, sales & commission values to function calculate_pay\n",
        "# receive/capture the return values from the function\n",
        "comm_result, tax_result, pay_result = calculate_pay(salary, sales, comm_rate)\n",
        "\n",
        "# print out the payslip nicely formatted\n",
        "print(f'\\n2=== Payslip of {name} ===')\n",
        "print(f\"Salary: {salary:9} \\nCommission: {comm_result:2} \\nTax: {tax_result:13} \\nTotal pay: {pay_result:8}\")\n"
      ],
      "metadata": {
        "colab": {
          "base_uri": "https://localhost:8080/"
        },
        "id": "t2LDKy1LHNQJ",
        "outputId": "b42fef7e-6190-41a6-abec-2e8f7a18ad36"
      },
      "execution_count": 10,
      "outputs": [
        {
          "output_type": "stream",
          "name": "stdout",
          "text": [
            "Please enter name: bob\n",
            "Please enter salary: 10000\n",
            "Please enter sales: 10000\n",
            "Please enter commission rate: 10\n",
            "\n",
            "2=== Payslip of bob ===\n",
            "Salary:     10000 \n",
            "Commission: 1000.0 \n",
            "Tax:        1100.0 \n",
            "Total pay:   9900.0\n"
          ]
        }
      ]
    },
    {
      "cell_type": "markdown",
      "source": [
        "## Modify the *payslip* program to \n",
        "* read the user data from the csv file to compute the pay\n",
        "* use the calculate_pay function"
      ],
      "metadata": {
        "id": "gujP9kJROgRw"
      }
    },
    {
      "cell_type": "code",
      "source": [],
      "metadata": {
        "id": "_ZQVabmB3xFy"
      },
      "execution_count": null,
      "outputs": []
    }
  ],
  "metadata": {
    "colab": {
      "provenance": [],
      "include_colab_link": true
    },
    "kernelspec": {
      "display_name": "Python 3",
      "language": "python",
      "name": "python3"
    },
    "language_info": {
      "codemirror_mode": {
        "name": "ipython",
        "version": 3
      },
      "file_extension": ".py",
      "mimetype": "text/x-python",
      "name": "python",
      "nbconvert_exporter": "python",
      "pygments_lexer": "ipython3",
      "version": "3.8.8"
    }
  },
  "nbformat": 4,
  "nbformat_minor": 0
}