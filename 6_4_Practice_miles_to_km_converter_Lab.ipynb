{
  "nbformat": 4,
  "nbformat_minor": 0,
  "metadata": {
    "colab": {
      "provenance": [],
      "include_colab_link": true
    },
    "kernelspec": {
      "name": "python3",
      "display_name": "Python 3"
    },
    "language_info": {
      "name": "python"
    }
  },
  "cells": [
    {
      "cell_type": "markdown",
      "metadata": {
        "id": "view-in-github",
        "colab_type": "text"
      },
      "source": [
        "<a href=\"https://colab.research.google.com/github/jonasmanundo/ISYS5002-2023-S1/blob/main/6_4_Practice_miles_to_km_converter_Lab.ipynb\" target=\"_parent\"><img src=\"https://colab.research.google.com/assets/colab-badge.svg\" alt=\"Open In Colab\"/></a>"
      ]
    },
    {
      "cell_type": "markdown",
      "source": [
        "## Problem Statement:\n",
        "\n",
        "### Simple version\n",
        "The run tracker program is designed to help users keep track of their runs. Users can enter the date, distance in miles, and time in minutes for each run they complete. The program then automatically converts the distance in miles to kilometers and calculates the speed in kilometers per hour using the conversion formula 1 mile = 1.60934 kilometers and speed calcluation formula speed = distance / time.The program should then display the result.\n",
        "\n",
        "### Extended version:\n",
        "The run tracker program is designed to help users keep track of their runs. Users can enter the date, distance in miles, and time in minutes for each run they complete. The program then automatically converts the distance in miles to kilometers and calculates the speed in kilometers per hour using the conversion formula 1 mile = 1.60934 kilometers. The information, including all input values and the calculated speed, is then saved to a CSV file named 'run.csv' for later analysis or tracking.\n",
        "\n",
        "The program is user-friendly and interactive. It prompts the user to enter the required information and provides clear feedback, including a confirmation message with the values entered by the user and the calculated speed. The program also allows the user to decide whether to continue entering more runs or terminate the program.\n",
        "\n",
        "Overall, the run tracker program is a useful tool for individuals who want to monitor their running progress over time and make data-driven decisions about their training."
      ],
      "metadata": {
        "id": "x9jojthsPxBn"
      }
    },
    {
      "cell_type": "markdown",
      "source": [
        "Following the **six-steps problem solving methodology**,<br>\n",
        "**Design and implement** the solution following good programming practices, such as modularising code, validating inputs, handling errors properly, and adhering to the PEP8 style guide.\n",
        "\n",
        "Adhering to PEP8 standards including:\n",
        "* the programming style naming conventions used in the PEP8, which include:\n",
        "* Meaningful names for project, variable, methods, and controls.\n",
        "* Correct capatlisation of variables and methods\n",
        "* Appropriate use of comments\n",
        "* Reference any relevant forums, websites, videos that you used.\n",
        "* Use of space and indentation to program is easy to read."
      ],
      "metadata": {
        "id": "NMyr0sRXzj4D"
      }
    },
    {
      "cell_type": "markdown",
      "source": [
        "Sample input/output:\n",
        "\n",
        "```\n",
        "Enter distance in miles: 10.5\n",
        "10.5 miles is equal to 16.898104 kilometers.\n",
        "\n",
        "Enter distance in miles: 0\n",
        "0.0 miles is equal to 0.0 kilometers.\n",
        "\n",
        "Enter distance in miles: -5\n",
        "Error: Distance cannot be negative.\n",
        "\n",
        "Enter distance in miles: abc\n",
        "Error: Invalid input. Distance must be a number.\n",
        "```\n",
        "\n"
      ],
      "metadata": {
        "id": "81iAFJucQEvQ"
      }
    },
    {
      "cell_type": "code",
      "source": [],
      "metadata": {
        "id": "SikFWznPRJuF"
      },
      "execution_count": null,
      "outputs": []
    },
    {
      "cell_type": "markdown",
      "source": [
        "Step 1: Identify the requirements\n",
        "\n",
        "Step 2: Inputs and Outputs\n",
        "\n",
        "Step 3: work an example of the problem\n",
        "\n",
        "Step 4: algorithm/pseudocode"
      ],
      "metadata": {
        "id": "G4qBbdkz-ylc"
      }
    },
    {
      "cell_type": "markdown",
      "source": [
        "**requirements:**\n",
        "\n",
        "track their runs\n",
        "\n",
        "Users can enter the date \n",
        "\n",
        "users enter distance in miles\n",
        "\n",
        "users enter time in minutes for each run they complete\n",
        "\n",
        "The program then automatically converts the distance in miles to kilometers\n",
        "\n",
        "The program calculates the speed in kilometers per hour using the conversion formula 1 mile = 1.60934 kilometers \n",
        "\n",
        "All input values and the calculated speed is saved to a CSV file named 'run.csv'\n"
      ],
      "metadata": {
        "id": "QYdcozNP_LAq"
      }
    },
    {
      "cell_type": "markdown",
      "source": [
        "**Inputs:**\n",
        "\n",
        "User enters the date\n",
        "\n",
        "users enter distance in miles\n",
        "\n",
        "users enter time in minutes\n",
        "\n",
        "calculate distance conversion formula 1 mile = 1.60934km\n",
        "\n",
        "calculate speed calcluation formula speed = distance / time\n",
        "\n",
        "    distance = km \n",
        "  \n",
        "    time = hr (min/60) \n",
        "  \n",
        "    speed = kph\n",
        "\n",
        "\n",
        "**Outputs:**\n",
        "\n",
        "Distance in miles is converted to kilometers\n",
        "\n",
        "Speed in kph\n",
        "\n",
        "save calculated speed to csv file named 'run.csv'"
      ],
      "metadata": {
        "id": "K2NXrAVkAFuu"
      }
    },
    {
      "cell_type": "code",
      "source": [
        "def speed_calc(distance_conv, speed):\n",
        "  # calculate the distance\n",
        "  distance_conv = (distance * 1.60934)\n",
        "\n",
        "  # calculate the speed\n",
        "  speed = ((distance_conv)/(time/60))\n",
        "\n",
        "  #return distance_conv, speed\n",
        "\n",
        "  return distance_conv, speed\n"
      ],
      "metadata": {
        "id": "z8KiX_VuC0jX"
      },
      "execution_count": 36,
      "outputs": []
    },
    {
      "cell_type": "code",
      "source": [
        "while True:\n",
        "  try:\n",
        "    name = input(\"Please enter name: \")\n",
        "    # get user input for date\n",
        "    date = input(\"Please enter date: \")\n",
        "    # get user input for distance\n",
        "    distance = float(input(\"Please enter distance: \"))\n",
        "    if distance < 0:\n",
        "       raise ValueError(\"Input must not be negative\")\n",
        "    # get user input for time\n",
        "    time = float(input(\"Please enter time: \"))\n",
        "    if time < 0:\n",
        "       raise ValueError(\"Input must not be negative\")\n",
        "    break # use break to stop loop\n",
        "  except ValueError:\n",
        "    print(\"Invalid input for distance/time. Please Enter a numeric value\")\n",
        "    # pass the date, distance, time values to function speed_calc\n",
        "  # receive/capture the return values from the function\n",
        "  #distance_conv, speed = speed_calc(distance_conv, speed)\n",
        "\n",
        "distance_km = distance * 1.60934\n",
        "\n",
        "# calculate the speed in kilometers per hour\n",
        "time_hours = time / 60\n",
        "speed_kph = distance_km / time_hours\n",
        "\n",
        "    # print out the data nicely formatted\n",
        "print(f'\\n=== {name}s run on {date} ===')\n",
        "print(f\"distance: {distance_km:9} \\ntime: {(time_hours):5} \\nspeed: {speed_kph:13}\")"
      ],
      "metadata": {
        "colab": {
          "base_uri": "https://localhost:8080/"
        },
        "id": "lzJDZGiCMR4m",
        "outputId": "46bf18ee-c7fc-4c7a-994e-24f5b30dc120"
      },
      "execution_count": 49,
      "outputs": [
        {
          "output_type": "stream",
          "name": "stdout",
          "text": [
            "Please enter name: jo\n",
            "Please enter date: 12\n",
            "Please enter distance: 12\n",
            "Please enter time: 12\n",
            "\n",
            "=== jos run on 12 ===\n",
            "distance:  19.31208 \n",
            "time:   0.2 \n",
            "speed:       96.5604\n"
          ]
        }
      ]
    },
    {
      "cell_type": "markdown",
      "source": [
        "### Test your program with some valid and invalid cases"
      ],
      "metadata": {
        "id": "Sdy8NRHrWJ0u"
      }
    },
    {
      "cell_type": "markdown",
      "source": [
        "### Optional: Modify the program so it print results and write results to a file."
      ],
      "metadata": {
        "id": "vw_BIIeeNsCl"
      }
    },
    {
      "cell_type": "code",
      "source": [],
      "metadata": {
        "id": "-mBD-_ApTLSD"
      },
      "execution_count": null,
      "outputs": []
    },
    {
      "cell_type": "markdown",
      "source": [
        "### Optional: Plot a graph to visualise the result\n",
        "\n",
        "\n"
      ],
      "metadata": {
        "id": "NmDIwHQ3T_bU"
      }
    }
  ]
}